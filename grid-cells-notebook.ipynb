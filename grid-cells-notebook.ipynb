{
 "cells": [
  {
   "cell_type": "code",
   "execution_count": null,
   "metadata": {},
   "outputs": [],
   "source": [
    "%pip install tensorflow numpy\n",
    "%pip install scipy"
   ]
  },
  {
   "cell_type": "code",
   "execution_count": 1,
   "metadata": {},
   "outputs": [],
   "source": [
    "import tensorflow as tf\n",
    "tf.compat.v1.disable_eager_execution()\n",
    "import pickle\n",
    "import numpy as np\n",
    "import os \n",
    "import argparse\n",
    "\n",
    "from OriginalGridNetwork.ratSimulator import RatSimulator\n",
    "from OriginalGridNetwork.dataGenerator import dataGenerator\n",
    "from OriginalGridNetwork.agent import Network\n",
    "from OriginalGridNetwork.trainer import Trainer\n",
    "from OriginalGridNetwork.showGridCells import showGridCells\n",
    "from OriginalGridNetwork.helper import prepare_testing_data, train_agent, test_agent\n"
   ]
  },
  {
   "cell_type": "code",
   "execution_count": 2,
   "metadata": {},
   "outputs": [],
   "source": [
    "LSTM_units = 128\n",
    "linear_layer_units = 512\n",
    "pc_units = 256\n",
    "hc_units = 12\n",
    "\n",
    "num_steps = 800\n",
    "num_features = 3\n",
    "num_trajectories = 500\n",
    "\n",
    "\n",
    "learning_rate=1e-4\n",
    "clipping=1e-5\n",
    "weightDecay=1e-5\n",
    "batch_size = 10\n",
    "SGDSteps = 300000\n",
    "global_step = 0"
   ]
  },
  {
   "cell_type": "code",
   "execution_count": 3,
   "metadata": {},
   "outputs": [],
   "source": [
    "random_state = np.random.RandomState(seed = 10)\n",
    "pc_centers = random_state.uniform(0, 2.2, size = (pc_units, 2))\n",
    "hc_centers = random_state.uniform(-np.pi, np.pi, size = (hc_units))"
   ]
  },
  {
   "cell_type": "code",
   "execution_count": 4,
   "metadata": {},
   "outputs": [
    {
     "name": "stdout",
     "output_type": "stream",
     "text": [
      "WARNING:tensorflow:From /Volumes/youwhat/projects/Grid-Cells-Experimentation/OriginalGridNetwork/agent.py:62: dynamic_rnn (from tensorflow.python.ops.rnn) is deprecated and will be removed in a future version.\n",
      "Instructions for updating:\n",
      "Please use `keras.layers.RNN(cell)`, which is equivalent to this API\n",
      "WARNING:tensorflow:From /opt/anaconda3/envs/grid-network/lib/python3.10/site-packages/tensorflow/python/util/dispatch.py:1260: calling dropout (from tensorflow.python.ops.nn_ops) with keep_prob is deprecated and will be removed in a future version.\n",
      "Instructions for updating:\n",
      "Please use `rate` instead of `keep_prob`. Rate should be set to `rate = 1 - keep_prob`.\n",
      "WARNING:tensorflow:From /opt/anaconda3/envs/grid-network/lib/python3.10/site-packages/tensorflow/python/training/rmsprop.py:188: calling Ones.__init__ (from tensorflow.python.ops.init_ops) with dtype is deprecated and will be removed in a future version.\n",
      "Instructions for updating:\n",
      "Call initializer instance with the dtype argument instead of passing it to the constructor\n"
     ]
    },
    {
     "name": "stderr",
     "output_type": "stream",
     "text": [
      "WARNING: All log messages before absl::InitializeLog() is called are written to STDERR\n",
      "I0000 00:00:1749440490.253773  359963 mlir_graph_optimization_pass.cc:425] MLIR V1 optimization pass is not enabled\n"
     ]
    }
   ],
   "source": [
    "tf.compat.v1.reset_default_graph()\n",
    "sess = tf.compat.v1.Session()\n",
    "agent = Network(sess, lr=learning_rate, hu=LSTM_units, lu=linear_layer_units, place_units=pc_units, head_units=hc_units, clipping=clipping, weightDecay=weightDecay, batch_size=batch_size, num_features=num_features, n_steps=num_steps)"
   ]
  },
  {
   "cell_type": "code",
   "execution_count": null,
   "metadata": {},
   "outputs": [],
   "source": [
    "if os.path.exists(\"agentBackup\"):\n",
    "    print(\"Loading saved model...\")\n",
    "    agent.save_restore_Model(restore=True)\n",
    "    global_step = sess.run(agent.epoch)\n",
    "    print(f\"Loaded model at step {global_step}\")\n",
    "else:\n",
    "    global_step = 0\n",
    "    print(\"No saved model found. Starting from scratch.\")"
   ]
  },
  {
   "cell_type": "code",
   "execution_count": null,
   "metadata": {},
   "outputs": [],
   "source": [
    "try:\n",
    "    trainer, global_step = train_agent(agent, pc_units, hc_units, pc_centers, hc_centers, num_steps,\n",
    "                                   num_features, SGDSteps, num_trajectories, batch_size, global_step)\n",
    "    print(f\"Training finished. Saving model at step {global_step}\")\n",
    "    agent.save_restore_Model(restore=False, epoch=global_step)\n",
    "except (KeyboardInterrupt, SystemError, SystemExit, MemoryError, RuntimeError) as e:\n",
    "    print(f\"Training interrupted ({str(e)}). Saving model at step {global_step}\")\n",
    "    agent.save_restore_Model(restore=False, epoch=global_step)\n",
    "    raise"
   ]
  },
  {
   "cell_type": "code",
   "execution_count": null,
   "metadata": {},
   "outputs": [],
   "source": [
    "input_data_test, pos_test, init_LSTMState_test = prepare_testing_data(pc_units, hc_units, pc_centers, hc_centers)\n",
    "test_agent(trainer, agent, pc_centers, input_data_test, init_LSTMState_test, pos_test, global_step)\n"
   ]
  },
  {
   "cell_type": "code",
   "execution_count": null,
   "metadata": {},
   "outputs": [],
   "source": [
    "bins = 32\n",
    "showGridCells(agent, num_trajectories, num_steps, num_features, pc_units, hc_units, linear_layer_units, bins, pc_centers, hc_centers)"
   ]
  }
 ],
 "metadata": {
  "kernelspec": {
   "display_name": "Python 3",
   "language": "python",
   "name": "python3"
  },
  "language_info": {
   "codemirror_mode": {
    "name": "ipython",
    "version": 3
   },
   "file_extension": ".py",
   "mimetype": "text/x-python",
   "name": "python",
   "nbconvert_exporter": "python",
   "pygments_lexer": "ipython3",
   "version": "3.10.18"
  },
  "orig_nbformat": 4
 },
 "nbformat": 4,
 "nbformat_minor": 2
}
